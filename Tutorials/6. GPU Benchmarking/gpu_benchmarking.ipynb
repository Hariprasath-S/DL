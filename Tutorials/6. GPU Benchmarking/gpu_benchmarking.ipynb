{
 "cells": [
  {
   "cell_type": "code",
   "execution_count": 11,
   "metadata": {},
   "outputs": [],
   "source": [
    "import tensorflow as tf\n",
    "from tensorflow import keras\n",
    "import pandas as pd\n",
    "import numpy as np\n",
    "import matplotlib.pyplot as plt"
   ]
  },
  {
   "cell_type": "code",
   "execution_count": 3,
   "metadata": {},
   "outputs": [
    {
     "data": {
      "text/plain": [
       "[PhysicalDevice(name='/physical_device:CPU:0', device_type='CPU'),\n",
       " PhysicalDevice(name='/physical_device:GPU:0', device_type='GPU')]"
      ]
     },
     "execution_count": 3,
     "metadata": {},
     "output_type": "execute_result"
    }
   ],
   "source": [
    "tf.config.experimental.list_physical_devices()"
   ]
  },
  {
   "cell_type": "code",
   "execution_count": 4,
   "metadata": {},
   "outputs": [
    {
     "data": {
      "text/plain": [
       "True"
      ]
     },
     "execution_count": 4,
     "metadata": {},
     "output_type": "execute_result"
    }
   ],
   "source": [
    "tf.test.is_built_with_cuda()"
   ]
  },
  {
   "cell_type": "code",
   "execution_count": 5,
   "metadata": {},
   "outputs": [
    {
     "name": "stdout",
     "output_type": "stream",
     "text": [
      "Downloading data from https://www.cs.toronto.edu/~kriz/cifar-10-python.tar.gz\n",
      "170500096/170498071 [==============================] - 232s 1us/step\n"
     ]
    }
   ],
   "source": [
    "(x_train, y_train), (x_test, y_test) = keras.datasets.cifar10.load_data()"
   ]
  },
  {
   "cell_type": "code",
   "execution_count": 7,
   "metadata": {},
   "outputs": [
    {
     "data": {
      "text/plain": [
       "((50000, 32, 32, 3), (50000, 1))"
      ]
     },
     "execution_count": 7,
     "metadata": {},
     "output_type": "execute_result"
    }
   ],
   "source": [
    "x_train.shape, y_train.shape"
   ]
  },
  {
   "cell_type": "code",
   "execution_count": 17,
   "metadata": {},
   "outputs": [],
   "source": [
    "classes = [\"airplane\",\n",
    "\"automobile\",\n",
    "\"bird\",\n",
    "\"cat\",\n",
    "\"deer\",\n",
    "\"dog\",\n",
    "\"frog\",\n",
    "\"horse\",\n",
    "\"ship\",\n",
    "\"truck\"]"
   ]
  },
  {
   "cell_type": "code",
   "execution_count": 12,
   "metadata": {},
   "outputs": [],
   "source": [
    "def plotimg(index):\n",
    "    plt.figure()\n",
    "    plt.imshow(x_train[index])"
   ]
  },
  {
   "cell_type": "code",
   "execution_count": 14,
   "metadata": {
    "scrolled": true
   },
   "outputs": [
    {
     "data": {
      "image/png": "[encoded data removed]",
      "text/plain": [
       "<Figure size 432x288 with 1 Axes>"
      ]
     },
     "metadata": {
      "needs_background": "light"
     },
     "output_type": "display_data"
    }
   ],
   "source": [
    "plotimg(5)"
   ]
  },
  {
   "cell_type": "code",
   "execution_count": 15,
   "metadata": {},
   "outputs": [
    {
     "data": {
      "text/plain": [
       "array([1], dtype=uint8)"
      ]
     },
     "execution_count": 15,
     "metadata": {},
     "output_type": "execute_result"
    }
   ],
   "source": [
    "y_train[5]"
   ]
  },
  {
   "cell_type": "code",
   "execution_count": 20,
   "metadata": {},
   "outputs": [
    {
     "data": {
      "text/plain": [
       "'automobile'"
      ]
     },
     "execution_count": 20,
     "metadata": {},
     "output_type": "execute_result"
    }
   ],
   "source": [
    "classes[y_train[5][0]]"
   ]
  },
  {
   "cell_type": "code",
   "execution_count": 24,
   "metadata": {},
   "outputs": [],
   "source": [
    "x_train_scaled = x_train / 255\n",
    "x_test_scaled = x_test / 255"
   ]
  },
  {
   "cell_type": "code",
   "execution_count": 25,
   "metadata": {},
   "outputs": [
    {
     "data": {
      "text/plain": [
       "(50000, 32, 32, 3)"
      ]
     },
     "execution_count": 25,
     "metadata": {},
     "output_type": "execute_result"
    }
   ],
   "source": [
    "x_train_scaled.shape"
   ]
  },
  {
   "cell_type": "code",
   "execution_count": 30,
   "metadata": {},
   "outputs": [],
   "source": [
    "y_train_categorical = keras.utils.to_categorical(y_train, num_classes=10,dtype='float32')"
   ]
  },
  {
   "cell_type": "code",
   "execution_count": 33,
   "metadata": {},
   "outputs": [
    {
     "data": {
      "text/plain": [
       "array([[0., 0., 0., 0., 0., 0., 1., 0., 0., 0.],\n",
       "       [0., 0., 0., 0., 0., 0., 0., 0., 0., 1.],\n",
       "       [0., 0., 0., 0., 0., 0., 0., 0., 0., 1.],\n",
       "       [0., 0., 0., 0., 1., 0., 0., 0., 0., 0.],\n",
       "       [0., 1., 0., 0., 0., 0., 0., 0., 0., 0.]], dtype=float32)"
      ]
     },
     "execution_count": 33,
     "metadata": {},
     "output_type": "execute_result"
    }
   ],
   "source": [
    "y_train_categorical[:5]"
   ]
  },
  {
   "cell_type": "code",
   "execution_count": 35,
   "metadata": {},
   "outputs": [
    {
     "data": {
      "text/plain": [
       "3072"
      ]
     },
     "execution_count": 35,
     "metadata": {},
     "output_type": "execute_result"
    }
   ],
   "source": [
    "32*32*3"
   ]
  },
  {
   "cell_type": "code",
   "execution_count": 81,
   "metadata": {},
   "outputs": [
    {
     "name": "stdout",
     "output_type": "stream",
     "text": [
      "Train on 50000 samples\n",
      "Epoch 1/50\n",
      "50000/50000 [==============================] - 24s 484us/sample - loss: 1.8405 - accuracy: 0.3424\n",
      "Epoch 2/50\n",
      "50000/50000 [==============================] - 37s 744us/sample - loss: 1.6382 - accuracy: 0.4239\n",
      "Epoch 3/50\n",
      "50000/50000 [==============================] - 24s 476us/sample - loss: 1.5531 - accuracy: 0.4525\n",
      "Epoch 4/50\n",
      "50000/50000 [==============================] - 23s 463us/sample - loss: 1.4884 - accuracy: 0.4764\n",
      "Epoch 5/50\n",
      "50000/50000 [==============================] - 24s 477us/sample - loss: 1.4365 - accuracy: 0.4956\n",
      "Epoch 6/50\n",
      "50000/50000 [==============================] - 24s 472us/sample - loss: 1.3884 - accuracy: 0.5125\n",
      "Epoch 7/50\n",
      "50000/50000 [==============================] - 24s 482us/sample - loss: 1.3511 - accuracy: 0.5257\n",
      "Epoch 8/50\n",
      "50000/50000 [==============================] - 23s 470us/sample - loss: 1.3136 - accuracy: 0.5411\n",
      "Epoch 9/50\n",
      "50000/50000 [==============================] - 23s 466us/sample - loss: 1.2773 - accuracy: 0.5511\n",
      "Epoch 10/50\n",
      "50000/50000 [==============================] - 24s 470us/sample - loss: 1.2436 - accuracy: 0.5650\n",
      "Epoch 11/50\n",
      "50000/50000 [==============================] - 24s 470us/sample - loss: 1.2157 - accuracy: 0.5731\n",
      "Epoch 12/50\n",
      "50000/50000 [==============================] - 23s 467us/sample - loss: 1.1848 - accuracy: 0.5873\n",
      "Epoch 13/50\n",
      "50000/50000 [==============================] - 23s 469us/sample - loss: 1.1528 - accuracy: 0.5967\n",
      "Epoch 14/50\n",
      "50000/50000 [==============================] - 24s 474us/sample - loss: 1.1249 - accuracy: 0.6078- loss: 1.1262 \n",
      "Epoch 15/50\n",
      "50000/50000 [==============================] - 24s 473us/sample - loss: 1.0954 - accuracy: 0.6179\n",
      "Epoch 16/50\n",
      "50000/50000 [==============================] - 24s 487us/sample - loss: 1.0678 - accuracy: 0.6293\n",
      "Epoch 17/50\n",
      "50000/50000 [==============================] - 24s 473us/sample - loss: 1.0396 - accuracy: 0.6416\n",
      "Epoch 18/50\n",
      "50000/50000 [==============================] - 24s 478us/sample - loss: 1.0079 - accuracy: 0.6490\n",
      "Epoch 19/50\n",
      "50000/50000 [==============================] - 26s 515us/sample - loss: 0.9849 - accuracy: 0.6583\n",
      "Epoch 20/50\n",
      "50000/50000 [==============================] - 24s 479us/sample - loss: 0.9565 - accuracy: 0.6687- loss: 0.956\n",
      "Epoch 21/50\n",
      "50000/50000 [==============================] - 24s 472us/sample - loss: 0.9281 - accuracy: 0.6799- loss: 0.9258 - accuracy: 0. - ETA:  - ETA: \n",
      "Epoch 22/50\n",
      "50000/50000 [==============================] - 24s 479us/sample - loss: 0.8988 - accuracy: 0.6901- loss: 0.8987 \n",
      "Epoch 23/50\n",
      "50000/50000 [==============================] - 24s 474us/sample - loss: 0.8708 - accuracy: 0.7014\n",
      "Epoch 24/50\n",
      "50000/50000 [==============================] - 24s 482us/sample - loss: 0.8458 - accuracy: 0.7082- loss:\n",
      "Epoch 25/50\n",
      "50000/50000 [==============================] - 24s 485us/sample - loss: 0.8155 - accuracy: 0.7208- loss: 0.815 -\n",
      "Epoch 26/50\n",
      "50000/50000 [==============================] - 24s 473us/sample - loss: 0.7926 - accuracy: 0.7276\n",
      "Epoch 27/50\n",
      "50000/50000 [==============================] - 24s 474us/sample - loss: 0.7644 - accuracy: 0.7376-\n",
      "Epoch 28/50\n",
      "50000/50000 [==============================] - 24s 473us/sample - loss: 0.7367 - accuracy: 0.7495\n",
      "Epoch 29/50\n",
      "50000/50000 [==============================] - 24s 474us/sample - loss: 0.7058 - accuracy: 0.7635\n",
      "Epoch 30/50\n",
      "50000/50000 [==============================] - 24s 475us/sample - loss: 0.6815 - accuracy: 0.7723\n",
      "Epoch 31/50\n",
      "50000/50000 [==============================] - 24s 474us/sample - loss: 0.6521 - accuracy: 0.7805- loss: 0.6531 - ac\n",
      "Epoch 32/50\n",
      "50000/50000 [==============================] - 24s 475us/sample - loss: 0.6235 - accuracy: 0.7906\n",
      "Epoch 33/50\n",
      "50000/50000 [==============================] - 24s 475us/sample - loss: 0.6003 - accuracy: 0.8004\n",
      "Epoch 34/50\n",
      "50000/50000 [==============================] - 24s 475us/sample - loss: 0.5730 - accuracy: 0.8097\n",
      "Epoch 35/50\n",
      "50000/50000 [==============================] - 24s 477us/sample - loss: 0.5487 - accuracy: 0.8196\n",
      "Epoch 36/50\n",
      "50000/50000 [==============================] - 24s 481us/sample - loss: 0.5210 - accuracy: 0.8298\n",
      "Epoch 37/50\n",
      "50000/50000 [==============================] - 24s 482us/sample - loss: 0.4964 - accuracy: 0.8396- loss: 0.4964 - accuracy: 0.83\n",
      "Epoch 38/50\n",
      "50000/50000 [==============================] - 24s 481us/sample - loss: 0.4709 - accuracy: 0.8490\n",
      "Epoch 39/50\n",
      "50000/50000 [==============================] - 24s 486us/sample - loss: 0.4463 - accuracy: 0.8585\n",
      "Epoch 40/50\n",
      "50000/50000 [==============================] - 24s 482us/sample - loss: 0.4254 - accuracy: 0.8657\n",
      "Epoch 41/50\n",
      "50000/50000 [==============================] - 24s 484us/sample - loss: 0.4038 - accuracy: 0.8730\n",
      "Epoch 42/50\n",
      "50000/50000 [==============================] - 24s 484us/sample - loss: 0.3807 - accuracy: 0.8824\n",
      "Epoch 43/50\n",
      "50000/50000 [==============================] - 24s 484us/sample - loss: 0.3605 - accuracy: 0.8908\n",
      "Epoch 44/50\n",
      "50000/50000 [==============================] - 24s 480us/sample - loss: 0.3326 - accuracy: 0.8996\n",
      "Epoch 45/50\n",
      "50000/50000 [==============================] - 24s 481us/sample - loss: 0.3163 - accuracy: 0.9062\n",
      "Epoch 46/50\n",
      "50000/50000 [==============================] - 24s 482us/sample - loss: 0.2966 - accuracy: 0.9135\n",
      "Epoch 47/50\n",
      "50000/50000 [==============================] - 24s 482us/sample - loss: 0.2786 - accuracy: 0.9196\n",
      "Epoch 48/50\n",
      "50000/50000 [==============================] - 24s 481us/sample - loss: 0.2654 - accuracy: 0.9235\n",
      "Epoch 49/50\n",
      "50000/50000 [==============================] - 24s 482us/sample - loss: 0.2450 - accuracy: 0.9313\n",
      "Epoch 50/50\n",
      "50000/50000 [==============================] - 24s 481us/sample - loss: 0.2277 - accuracy: 0.9383\n"
     ]
    },
    {
     "data": {
      "text/plain": [
       "<tensorflow.python.keras.callbacks.History at 0x2255635de48>"
      ]
     },
     "execution_count": 81,
     "metadata": {},
     "output_type": "execute_result"
    }
   ],
   "source": [
    "model = keras.Sequential([\n",
    "    keras.layers.Flatten(input_shape=(32,32,3)),\n",
    "    keras.layers.Dense(5000,activation='relu'),\n",
    "    keras.layers.Dense(5000,activation='relu'),\n",
    "    keras.layers.Dense(10,activation='sigmoid')\n",
    "])\n",
    "\n",
    "model.compile(optimizer='SGD',\n",
    "             loss='categorical_crossentropy',\n",
    "             metrics=['accuracy'])\n",
    "\n",
    "model.fit(x_train_scaled, y_train_categorical, epochs=50)"
   ]
  },
  {
   "cell_type": "code",
   "execution_count": 82,
   "metadata": {},
   "outputs": [],
   "source": [
    "y_pred = model.predict(x_test_scaled)"
   ]
  },
  {
   "cell_type": "code",
   "execution_count": 83,
   "metadata": {},
   "outputs": [
    {
     "data": {
      "text/plain": [
       "array([1.3024478e-06, 3.6921799e-07, 4.3747733e-07, 2.7469289e-04,\n",
       "       2.0948586e-05, 4.5281008e-06, 2.6200893e-09, 1.8679765e-10,\n",
       "       8.3231981e-07, 1.7669872e-07], dtype=float32)"
      ]
     },
     "execution_count": 83,
     "metadata": {},
     "output_type": "execute_result"
    }
   ],
   "source": [
    "y_pred[0]"
   ]
  },
  {
   "cell_type": "code",
   "execution_count": 84,
   "metadata": {},
   "outputs": [
    {
     "data": {
      "text/plain": [
       "3"
      ]
     },
     "execution_count": 84,
     "metadata": {},
     "output_type": "execute_result"
    }
   ],
   "source": [
    "np.argmax(y_pred[0])"
   ]
  },
  {
   "cell_type": "code",
   "execution_count": 85,
   "metadata": {},
   "outputs": [],
   "source": [
    "y_pred = map(lambda x: np.argmax(x),y_pred)\n",
    "y_pred = list(y_pred)"
   ]
  },
  {
   "cell_type": "code",
   "execution_count": 86,
   "metadata": {},
   "outputs": [
    {
     "data": {
      "text/plain": [
       "array([[703,  21,  20,  25,  30,  43,  16,  13,  94,  35],\n",
       "       [ 36, 683,   7,  24,   6,  23,   7,  18,  59, 137],\n",
       "       [ 83,  16, 342,  73, 110, 225,  53,  54,  22,  22],\n",
       "       [ 29,  16,  27, 304,  48, 431,  58,  44,  17,  26],\n",
       "       [ 48,   8,  85,  53, 477, 175,  57,  62,  19,  16],\n",
       "       [ 16,   5,  20, 114,  44, 716,  20,  40,  12,  13],\n",
       "       [ 17,  15,  42,  88,  77, 168, 554,  14,  13,  12],\n",
       "       [ 34,  11,  21,  40,  66, 172,   9, 603,   6,  38],\n",
       "       [ 95,  60,  11,  26,  19,  38,   4,   8, 690,  49],\n",
       "       [ 56, 155,   5,  37,   9,  45,   7,  35,  52, 599]], dtype=int64)"
      ]
     },
     "execution_count": 86,
     "metadata": {},
     "output_type": "execute_result"
    }
   ],
   "source": [
    "from sklearn.metrics import confusion_matrix\n",
    "\n",
    "cm = confusion_matrix(y_test,y_pred)\n",
    "\n",
    "cm"
   ]
  },
  {
   "cell_type": "code",
   "execution_count": 87,
   "metadata": {},
   "outputs": [
    {
     "data": {
      "text/plain": [
       "<AxesSubplot:>"
      ]
     },
     "execution_count": 87,
     "metadata": {},
     "output_type": "execute_result"
    },
    {
     "data": {
      "image/png": "[encoded data removed]",
      "text/plain": [
       "<Figure size 720x720 with 2 Axes>"
      ]
     },
     "metadata": {
      "needs_background": "light"
     },
     "output_type": "display_data"
    }
   ],
   "source": [
    "import seaborn as sb\n",
    "plt.figure(figsize=(10,10))\n",
    "sb.heatmap(cm,annot=True)"
   ]
  }
 ],
 "metadata": {
  "kernelspec": {
   "display_name": "Python 3",
   "language": "python",
   "name": "python3"
  },
  "language_info": {
   "codemirror_mode": {
    "name": "ipython",
    "version": 3
   },
   "file_extension": ".py",
   "mimetype": "text/x-python",
   "name": "python",
   "nbconvert_exporter": "python",
   "pygments_lexer": "ipython3",
   "version": "3.7.9"
  }
 },
 "nbformat": 4,
 "nbformat_minor": 4
}
